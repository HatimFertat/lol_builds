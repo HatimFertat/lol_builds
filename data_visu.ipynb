{
 "cells": [
  {
   "cell_type": "code",
   "execution_count": 10,
   "metadata": {},
   "outputs": [],
   "source": [
    "import sqlite3\n",
    "import pandas as pd\n",
    "\n",
    "conn = sqlite3.connect('data/matches.db')\n",
    "df = pd.read_sql_query(\"SELECT * FROM match_records\", conn)\n",
    "conn.close()"
   ]
  },
  {
   "cell_type": "code",
   "execution_count": 2,
   "metadata": {},
   "outputs": [
    {
     "data": {
      "text/plain": [
       "Index(['match_id', 'patch_start', 'region', 'lane', 'champion_1', 'champion_2',\n",
       "       'win_1', 'win_2', 'kda_1', 'kda_2', 'gold_1', 'gold_2', 'items_1',\n",
       "       'items_2', 'damage_dealt_1', 'damage_dealt_2', 'damage_taken_1',\n",
       "       'damage_taken_2', 'damage_to_objectives_1', 'damage_to_objectives_2',\n",
       "       'vision_score_1', 'vision_score_2', 'cs_1', 'cs_2',\n",
       "       'kill_participation_1', 'kill_participation_2', 'cc_score_1',\n",
       "       'cc_score_2', 'gold_spent_1', 'gold_spent_2', 'champion_transform_1',\n",
       "       'champion_transform_2', 'individual_position_1',\n",
       "       'individual_position_2', 'team_id_1', 'team_id_2', 'bounty_level_1',\n",
       "       'bounty_level_2', 'physical_damage_dealt_1', 'physical_damage_dealt_2',\n",
       "       'magic_damage_dealt_1', 'magic_damage_dealt_2', 'true_damage_dealt_1',\n",
       "       'true_damage_dealt_2', 'physical_damage_taken_1',\n",
       "       'physical_damage_taken_2', 'magic_damage_taken_1',\n",
       "       'magic_damage_taken_2', 'true_damage_taken_1', 'true_damage_taken_2',\n",
       "       'total_damage_dealt_1', 'total_damage_dealt_2',\n",
       "       'damage_self_mitigated_1', 'damage_self_mitigated_2',\n",
       "       'turret_takedowns_1', 'turret_takedowns_2', 'dragon_takedowns_1',\n",
       "       'dragon_takedowns_2', 'baron_takedowns_1', 'baron_takedowns_2',\n",
       "       'longest_time_living_1', 'longest_time_living_2', 'champ_experience_1',\n",
       "       'champ_experience_2', 'time_played_1', 'time_played_2',\n",
       "       'match_duration', 'first_blood_kill_1', 'first_blood_kill_2',\n",
       "       'first_blood_assist_1', 'first_blood_assist_2', 'gold_per_minute_1',\n",
       "       'gold_per_minute_2', 'xp_diff_per_minute_1', 'xp_diff_per_minute_2',\n",
       "       'ally_champions_1', 'ally_champions_2', 'enemy_champions_1',\n",
       "       'enemy_champions_2'],\n",
       "      dtype='object')"
      ]
     },
     "execution_count": 2,
     "metadata": {},
     "output_type": "execute_result"
    }
   ],
   "source": [
    "df.columns"
   ]
  },
  {
   "cell_type": "code",
   "execution_count": 4,
   "metadata": {},
   "outputs": [
    {
     "data": {
      "text/plain": [
       "28"
      ]
     },
     "execution_count": 4,
     "metadata": {},
     "output_type": "execute_result"
    }
   ],
   "source": [
    "l = [{'itemId': 1055, 'timestamp': 5498, 'phase': 'early', 'action': 'ITEM_PURCHASED'}, {'itemId': 3340, 'timestamp': 5832, 'phase': 'early', 'action': 'ITEM_PURCHASED'}, {'itemId': 2003, 'timestamp': 6166, 'phase': 'early', 'action': 'ITEM_PURCHASED'}, {'itemId': 3134, 'timestamp': 398443, 'phase': 'early', 'action': 'ITEM_PURCHASED'}, {'itemId': 1036, 'timestamp': 399245, 'phase': 'early', 'action': 'ITEM_PURCHASED'}, {'itemId': 1001, 'timestamp': 400180, 'phase': 'early', 'action': 'ITEM_PURCHASED'}, {'itemId': 6690, 'timestamp': 539225, 'phase': 'early', 'action': 'ITEM_PURCHASED'}, {'itemId': 1029, 'timestamp': 540522, 'phase': 'early', 'action': 'ITEM_PURCHASED'}, {'itemId': 3142, 'timestamp': 679256, 'phase': 'mid', 'action': 'ITEM_PURCHASED'}, {'itemId': 2022, 'timestamp': 689058, 'phase': 'mid', 'action': 'ITEM_PURCHASED'}, {'itemId': 3047, 'timestamp': 810365, 'phase': 'mid', 'action': 'ITEM_PURCHASED'}, {'itemId': 1036, 'timestamp': 938251, 'phase': 'mid', 'action': 'ITEM_PURCHASED'}, {'itemId': 1036, 'timestamp': 938418, 'phase': 'mid', 'action': 'ITEM_PURCHASED'}, {'itemId': 2021, 'timestamp': 1044823, 'phase': 'mid', 'action': 'ITEM_PURCHASED'}, {'itemId': 3133, 'timestamp': 1187112, 'phase': 'mid', 'action': 'ITEM_PURCHASED'}, {'itemId': 1028, 'timestamp': 1187413, 'phase': 'mid', 'action': 'ITEM_PURCHASED'}, {'itemId': 6610, 'timestamp': 1241932, 'phase': 'mid', 'action': 'ITEM_PURCHASED'}, {'itemId': 1037, 'timestamp': 1276985, 'phase': 'mid', 'action': 'ITEM_PURCHASED'}, {'itemId': 3044, 'timestamp': 1366928, 'phase': 'mid', 'action': 'ITEM_PURCHASED'}, {'itemId': 3071, 'timestamp': 1620055, 'phase': 'late', 'action': 'ITEM_PURCHASED'}, {'itemId': 1028, 'timestamp': 1628884, 'phase': 'late', 'action': 'ITEM_PURCHASED'}, {'itemId': 2021, 'timestamp': 1804536, 'phase': 'late', 'action': 'ITEM_PURCHASED'}, {'itemId': 3053, 'timestamp': 1951844, 'phase': 'late', 'action': 'ITEM_PURCHASED'}, {'itemId': 2138, 'timestamp': 1952846, 'phase': 'late', 'action': 'ITEM_PURCHASED'}, {'itemId': 1055, 'timestamp': 2096424, 'phase': 'late', 'action': 'ITEM_SOLD'}, {'itemId': 2021, 'timestamp': 2098297, 'phase': 'late', 'action': 'ITEM_PURCHASED'}, {'itemId': 3814, 'timestamp': 2383955, 'phase': 'late', 'action': 'ITEM_PURCHASED'}, {'itemId': 2138, 'timestamp': 2509589, 'phase': 'late', 'action': 'ITEM_PURCHASED'}]\n",
    "len(l)"
   ]
  },
  {
   "cell_type": "code",
   "execution_count": 188,
   "metadata": {},
   "outputs": [],
   "source": [
    "# Buy Doran's Blade @00:00 early -> Buy Stealth Ward @00:00 early -> Buy Health Potion @00:00 early -> Buy Serrated Dirk @06:45 early -> Buy Long Sword @06:45 early -> Buy Boots @06:45 early -> Buy Rectrix @09:00 early -> Buy Cloth Armor @09:00 early -> Buy Youmuu's Ghostblade @11:15 mid -> Buy Glowing Mote @11:30 mid -> Buy Plated Steelcaps @13:30 mid -> Buy Long Sword @15:45 mid -> Buy Long Sword @15:45 mid -> Buy Tunneler @17:30 mid -> Buy Caulfield's Warhammer @19:45 mid -> Buy Ruby Crystal @19:45 mid -> Buy Sundered Sky @20:45 mid -> Buy Pickaxe @21:15 mid -> Buy Phage @22:45 mid -> Buy Black Cleaver @27:00 late -> Buy Ruby Crystal @27:15 late -> Buy Tunneler @30:00 late -> Buy Sterak's Gage @32:30 late -> Buy Elixir of Iron @32:30 late -> Sell Doran's Blade @35:00 late -> Buy Tunneler @35:00 late -> Buy Edge of Night @39:45 late -> Buy Elixir of Iron @41:45 late,Buy Doran's Blade @00:00 early -> Buy Health Potion @00:00 early -> Buy Tear of the Goddess @03:30 early -> Buy Health Potion @03:30 early -> Buy Ruby Crystal @06:15 early -> Action UnknownItemNone @06:15 early -> Buy Pickaxe @06:15 early -> Buy Refillable Potion @06:15 early -> Buy Control Ward @06:15 early -> Sell Total Biscuit of Everlasting Will @08:45 early -> Sell Total Biscuit of Everlasting Will @08:45 early -> Buy Ruby Crystal @08:45 early -> Buy Black Cleaver @11:15 mid -> Buy Control Ward @11:30 mid -> Sell Refillable Potion @14:30 mid -> Buy Spear of Shojin @14:30 mid -> Buy Oracle Lens @14:30 mid -> Buy Caulfield's Warhammer @16:45 mid -> Buy Manamune @20:45 mid -> Buy Null-Magic Mantle @20:45 mid -> Buy Mercury's Treads @23:15 mid -> Buy Serrated Dirk @23:15 mid -> Buy Edge of Night @27:00 late -> Sell Doran's Blade @27:00 late -> Buy Pickaxe @27:00 late -> Action UnknownItemNone @27:00 late -> Buy B. F. Sword @27:00 late -> Buy Guardian Angel @31:00 late -> Buy Chainlaced Crushers @34:15 late -> Buy Elixir of Wrath @34:15 late -> Buy Elixir of Wrath @36:30 late -> Sell Black Cleaver @37:15 late -> Buy Serylda's Grudge @37:15 late -> Buy Elixir of Wrath @37:15 late -> Buy Elixir of Wrath @39:30 late -> Buy Elixir of Wrath @41:45 late,"
   ]
  },
  {
   "cell_type": "code",
   "execution_count": 5,
   "metadata": {},
   "outputs": [
    {
     "data": {
      "text/plain": [
       "region\n",
       "KR      7125\n",
       "EUW     7110\n",
       "NA      7110\n",
       "BR      5209\n",
       "LAN     4669\n",
       "LAS     4650\n",
       "EUNE    4449\n",
       "OCE     1109\n",
       "JP       975\n",
       "Name: count, dtype: int64"
      ]
     },
     "execution_count": 5,
     "metadata": {},
     "output_type": "execute_result"
    }
   ],
   "source": [
    "df.region.value_counts()"
   ]
  },
  {
   "cell_type": "code",
   "execution_count": 6,
   "metadata": {},
   "outputs": [
    {
     "data": {
      "text/plain": [
       "champion_1\n",
       "Tristana        854\n",
       "Ezreal          825\n",
       "Kaisa           815\n",
       "Ahri            648\n",
       "Jhin            648\n",
       "               ... \n",
       "Heimerdinger     51\n",
       "Rammus           41\n",
       "Illaoi           37\n",
       "Amumu            32\n",
       "Shyvana          30\n",
       "Name: count, Length: 170, dtype: int64"
      ]
     },
     "execution_count": 6,
     "metadata": {},
     "output_type": "execute_result"
    }
   ],
   "source": [
    "df['champion_1'].value_counts()"
   ]
  },
  {
   "cell_type": "code",
   "execution_count": 7,
   "metadata": {},
   "outputs": [
    {
     "data": {
      "text/plain": [
       "np.float64(0.5216007168796868)"
      ]
     },
     "execution_count": 7,
     "metadata": {},
     "output_type": "execute_result"
    }
   ],
   "source": [
    "df['win_1'].mean()"
   ]
  },
  {
   "cell_type": "code",
   "execution_count": 8,
   "metadata": {},
   "outputs": [
    {
     "data": {
      "text/plain": [
       "lane\n",
       "JUNGLE     8482\n",
       "TOP        8481\n",
       "MIDDLE     8481\n",
       "BOTTOM     8481\n",
       "UTILITY    8481\n",
       "Name: count, dtype: int64"
      ]
     },
     "execution_count": 8,
     "metadata": {},
     "output_type": "execute_result"
    }
   ],
   "source": [
    "df['lane'].value_counts()"
   ]
  },
  {
   "cell_type": "code",
   "execution_count": 9,
   "metadata": {},
   "outputs": [
    {
     "name": "stdout",
     "output_type": "stream",
     "text": [
      "No identical rows found.\n",
      "Missing values found:\n",
      "kill_participation_1       44\n",
      "kill_participation_2       35\n",
      "xp_diff_per_minute_1    42406\n",
      "xp_diff_per_minute_2    42406\n",
      "dtype: int64\n",
      "Indices of missing values:\n",
      "Number of missing values:\n",
      "84891\n",
      "Number of missing values per column:\n",
      "kill_participation_1       44\n",
      "kill_participation_2       35\n",
      "xp_diff_per_minute_1    42406\n",
      "xp_diff_per_minute_2    42406\n",
      "dtype: int64\n",
      "Total number of missing values:\n",
      "84891\n"
     ]
    }
   ],
   "source": [
    "#check for identical rows\n",
    "identical_rows = df[df.duplicated(keep=False)]\n",
    "if not identical_rows.empty:\n",
    "    print(\"Identical rows found:\")\n",
    "    print(identical_rows)\n",
    "else:\n",
    "    print(\"No identical rows found.\")\n",
    "\n",
    "#check for missing values\n",
    "missing_values = df.isnull().sum()\n",
    "if missing_values.any():\n",
    "    print(\"Missing values found:\")\n",
    "    print(missing_values[missing_values > 0])\n",
    "    print('Indices of missing values:')\n",
    "    # for col in df.columns:\n",
    "        # if df[col].isnull().any():\n",
    "            # print(f\"Column '{col}' has missing values at indices: {df.index[df[col].isnull()].tolist()}\")\n",
    "    print('Number of missing values:')\n",
    "    print(missing_values[missing_values > 0].sum())\n",
    "    print('Number of missing values per column:')\n",
    "    print(missing_values[missing_values > 0])\n",
    "    print('Total number of missing values:')\n",
    "    print(missing_values.sum())\n",
    "else:\n",
    "    print(\"No missing values found.\")"
   ]
  },
  {
   "cell_type": "code",
   "execution_count": 194,
   "metadata": {},
   "outputs": [
    {
     "data": {
      "text/html": [
       "<div>\n",
       "<style scoped>\n",
       "    .dataframe tbody tr th:only-of-type {\n",
       "        vertical-align: middle;\n",
       "    }\n",
       "\n",
       "    .dataframe tbody tr th {\n",
       "        vertical-align: top;\n",
       "    }\n",
       "\n",
       "    .dataframe thead th {\n",
       "        text-align: right;\n",
       "    }\n",
       "</style>\n",
       "<table border=\"1\" class=\"dataframe\">\n",
       "  <thead>\n",
       "    <tr style=\"text-align: right;\">\n",
       "      <th></th>\n",
       "      <th>champion_1</th>\n",
       "      <th>champion_2</th>\n",
       "      <th>lane</th>\n",
       "      <th>ally_champions_1</th>\n",
       "      <th>enemy_champions_1</th>\n",
       "    </tr>\n",
       "  </thead>\n",
       "  <tbody>\n",
       "    <tr>\n",
       "      <th>0</th>\n",
       "      <td>Ambessa</td>\n",
       "      <td>Riven</td>\n",
       "      <td>TOP</td>\n",
       "      <td>['Naafiri', 'Malzahar', 'Ezreal', 'Bard']</td>\n",
       "      <td>['Riven', 'Taliyah', 'Leblanc', 'Varus', 'Pyke']</td>\n",
       "    </tr>\n",
       "    <tr>\n",
       "      <th>1</th>\n",
       "      <td>Naafiri</td>\n",
       "      <td>Taliyah</td>\n",
       "      <td>JUNGLE</td>\n",
       "      <td>['Ambessa', 'Malzahar', 'Ezreal', 'Bard']</td>\n",
       "      <td>['Riven', 'Taliyah', 'Leblanc', 'Varus', 'Pyke']</td>\n",
       "    </tr>\n",
       "    <tr>\n",
       "      <th>2</th>\n",
       "      <td>Malzahar</td>\n",
       "      <td>Leblanc</td>\n",
       "      <td>MIDDLE</td>\n",
       "      <td>['Ambessa', 'Naafiri', 'Ezreal', 'Bard']</td>\n",
       "      <td>['Riven', 'Taliyah', 'Leblanc', 'Varus', 'Pyke']</td>\n",
       "    </tr>\n",
       "    <tr>\n",
       "      <th>3</th>\n",
       "      <td>Ezreal</td>\n",
       "      <td>Varus</td>\n",
       "      <td>BOTTOM</td>\n",
       "      <td>['Ambessa', 'Naafiri', 'Malzahar', 'Bard']</td>\n",
       "      <td>['Riven', 'Taliyah', 'Leblanc', 'Varus', 'Pyke']</td>\n",
       "    </tr>\n",
       "    <tr>\n",
       "      <th>4</th>\n",
       "      <td>Bard</td>\n",
       "      <td>Pyke</td>\n",
       "      <td>UTILITY</td>\n",
       "      <td>['Ambessa', 'Naafiri', 'Malzahar', 'Ezreal']</td>\n",
       "      <td>['Riven', 'Taliyah', 'Leblanc', 'Varus', 'Pyke']</td>\n",
       "    </tr>\n",
       "    <tr>\n",
       "      <th>...</th>\n",
       "      <td>...</td>\n",
       "      <td>...</td>\n",
       "      <td>...</td>\n",
       "      <td>...</td>\n",
       "      <td>...</td>\n",
       "    </tr>\n",
       "    <tr>\n",
       "      <th>48906</th>\n",
       "      <td>Jayce</td>\n",
       "      <td>Camille</td>\n",
       "      <td>TOP</td>\n",
       "      <td>['LeeSin', 'Chogath', 'Tristana', 'Rakan']</td>\n",
       "      <td>['Camille', 'Ekko', 'Xerath', 'Aphelios', 'Thr...</td>\n",
       "    </tr>\n",
       "    <tr>\n",
       "      <th>48907</th>\n",
       "      <td>LeeSin</td>\n",
       "      <td>Ekko</td>\n",
       "      <td>JUNGLE</td>\n",
       "      <td>['Jayce', 'Chogath', 'Tristana', 'Rakan']</td>\n",
       "      <td>['Camille', 'Ekko', 'Xerath', 'Aphelios', 'Thr...</td>\n",
       "    </tr>\n",
       "    <tr>\n",
       "      <th>48908</th>\n",
       "      <td>Chogath</td>\n",
       "      <td>Xerath</td>\n",
       "      <td>MIDDLE</td>\n",
       "      <td>['Jayce', 'LeeSin', 'Tristana', 'Rakan']</td>\n",
       "      <td>['Camille', 'Ekko', 'Xerath', 'Aphelios', 'Thr...</td>\n",
       "    </tr>\n",
       "    <tr>\n",
       "      <th>48909</th>\n",
       "      <td>Tristana</td>\n",
       "      <td>Aphelios</td>\n",
       "      <td>BOTTOM</td>\n",
       "      <td>['Jayce', 'LeeSin', 'Chogath', 'Rakan']</td>\n",
       "      <td>['Camille', 'Ekko', 'Xerath', 'Aphelios', 'Thr...</td>\n",
       "    </tr>\n",
       "    <tr>\n",
       "      <th>48910</th>\n",
       "      <td>Rakan</td>\n",
       "      <td>Thresh</td>\n",
       "      <td>UTILITY</td>\n",
       "      <td>['Jayce', 'LeeSin', 'Chogath', 'Tristana']</td>\n",
       "      <td>['Camille', 'Ekko', 'Xerath', 'Aphelios', 'Thr...</td>\n",
       "    </tr>\n",
       "  </tbody>\n",
       "</table>\n",
       "<p>48911 rows × 5 columns</p>\n",
       "</div>"
      ],
      "text/plain": [
       "      champion_1 champion_2     lane  \\\n",
       "0        Ambessa      Riven      TOP   \n",
       "1        Naafiri    Taliyah   JUNGLE   \n",
       "2       Malzahar    Leblanc   MIDDLE   \n",
       "3         Ezreal      Varus   BOTTOM   \n",
       "4           Bard       Pyke  UTILITY   \n",
       "...          ...        ...      ...   \n",
       "48906      Jayce    Camille      TOP   \n",
       "48907     LeeSin       Ekko   JUNGLE   \n",
       "48908    Chogath     Xerath   MIDDLE   \n",
       "48909   Tristana   Aphelios   BOTTOM   \n",
       "48910      Rakan     Thresh  UTILITY   \n",
       "\n",
       "                                   ally_champions_1  \\\n",
       "0         ['Naafiri', 'Malzahar', 'Ezreal', 'Bard']   \n",
       "1         ['Ambessa', 'Malzahar', 'Ezreal', 'Bard']   \n",
       "2          ['Ambessa', 'Naafiri', 'Ezreal', 'Bard']   \n",
       "3        ['Ambessa', 'Naafiri', 'Malzahar', 'Bard']   \n",
       "4      ['Ambessa', 'Naafiri', 'Malzahar', 'Ezreal']   \n",
       "...                                             ...   \n",
       "48906    ['LeeSin', 'Chogath', 'Tristana', 'Rakan']   \n",
       "48907     ['Jayce', 'Chogath', 'Tristana', 'Rakan']   \n",
       "48908      ['Jayce', 'LeeSin', 'Tristana', 'Rakan']   \n",
       "48909       ['Jayce', 'LeeSin', 'Chogath', 'Rakan']   \n",
       "48910    ['Jayce', 'LeeSin', 'Chogath', 'Tristana']   \n",
       "\n",
       "                                       enemy_champions_1  \n",
       "0       ['Riven', 'Taliyah', 'Leblanc', 'Varus', 'Pyke']  \n",
       "1       ['Riven', 'Taliyah', 'Leblanc', 'Varus', 'Pyke']  \n",
       "2       ['Riven', 'Taliyah', 'Leblanc', 'Varus', 'Pyke']  \n",
       "3       ['Riven', 'Taliyah', 'Leblanc', 'Varus', 'Pyke']  \n",
       "4       ['Riven', 'Taliyah', 'Leblanc', 'Varus', 'Pyke']  \n",
       "...                                                  ...  \n",
       "48906  ['Camille', 'Ekko', 'Xerath', 'Aphelios', 'Thr...  \n",
       "48907  ['Camille', 'Ekko', 'Xerath', 'Aphelios', 'Thr...  \n",
       "48908  ['Camille', 'Ekko', 'Xerath', 'Aphelios', 'Thr...  \n",
       "48909  ['Camille', 'Ekko', 'Xerath', 'Aphelios', 'Thr...  \n",
       "48910  ['Camille', 'Ekko', 'Xerath', 'Aphelios', 'Thr...  \n",
       "\n",
       "[48911 rows x 5 columns]"
      ]
     },
     "execution_count": 194,
     "metadata": {},
     "output_type": "execute_result"
    }
   ],
   "source": [
    "columns_to_keep = [\n",
    "\"champion_1\", \"champion_2\", \"lane\",\n",
    "\"ally_champions_1\", \"enemy_champions_1\"\n",
    "]\n",
    "df[columns_to_keep]"
   ]
  },
  {
   "cell_type": "markdown",
   "metadata": {},
   "source": [
    "# Verification of quality"
   ]
  },
  {
   "cell_type": "code",
   "execution_count": 53,
   "metadata": {},
   "outputs": [],
   "source": [
    "import pandas as pd\n",
    "import ast\n",
    "\n",
    "# df = pd.read_json(\"data/build_finetune_dataset.jsonl\", lines=True)\n",
    "df = pd.read_csv(\"data/llm_ready_dataset.csv\", sep=';')\n",
    "\n",
    "\n",
    "# Ensure list-like columns are properly parsed\n",
    "list_columns = ['ally_champions_1', 'enemy_champions_1', 'ally_champions_2', 'enemy_champions_2']\n",
    "for col in list_columns:\n",
    "    df[col] = df[col].apply(ast.literal_eval)\n",
    "\n",
    "# Split ally_champions_1 into ally_1 to ally_4\n",
    "df[['ally_1', 'ally_2', 'ally_3', 'ally_4']] = pd.DataFrame(df['ally_champions_1'].tolist(), index=df.index)\n",
    "\n",
    "# Split enemy_champions_1 into enemy_1 to enemy_5\n",
    "df[['enemy_1', 'enemy_2', 'enemy_3', 'enemy_4', 'enemy_5']] = pd.DataFrame(df['enemy_champions_1'].tolist(), index=df.index)\n",
    "\n",
    "cols = [\n",
    "    'champion_1', 'champion_2',\n",
    "    'ally_1', 'ally_2', 'ally_3', 'ally_4',\n",
    "    'enemy_1', 'enemy_2', 'enemy_3', 'enemy_4', 'enemy_5']"
   ]
  },
  {
   "cell_type": "code",
   "execution_count": 54,
   "metadata": {},
   "outputs": [
    {
     "data": {
      "text/plain": [
       "154"
      ]
     },
     "execution_count": 54,
     "metadata": {},
     "output_type": "execute_result"
    }
   ],
   "source": [
    "#number of unique values in champion_1 where lane is TOP\n",
    "df[df['lane'] == 'MIDDLE']['champion_1'].nunique()"
   ]
  },
  {
   "cell_type": "code",
   "execution_count": 55,
   "metadata": {},
   "outputs": [
    {
     "ename": "ValueError",
     "evalue": "The truth value of a Series is ambiguous. Use a.empty, a.bool(), a.item(), a.any() or a.all().",
     "output_type": "error",
     "traceback": [
      "\u001b[0;31m---------------------------------------------------------------------------\u001b[0m",
      "\u001b[0;31mValueError\u001b[0m                                Traceback (most recent call last)",
      "\u001b[0;32m/tmp/ipykernel_3469743/2714175535.py\u001b[0m in \u001b[0;36m?\u001b[0;34m()\u001b[0m\n\u001b[0;32m----> 1\u001b[0;31m \u001b[0mdf\u001b[0m\u001b[0;34m.\u001b[0m\u001b[0mloc\u001b[0m\u001b[0;34m[\u001b[0m\u001b[0mdf\u001b[0m\u001b[0;34m[\u001b[0m\u001b[0;34m'lane'\u001b[0m\u001b[0;34m]\u001b[0m \u001b[0;34m==\u001b[0m \u001b[0;34m'TOP'\u001b[0m \u001b[0;32mand\u001b[0m \u001b[0mdf\u001b[0m\u001b[0;34m[\u001b[0m\u001b[0;34m'champion_1'\u001b[0m\u001b[0;34m]\u001b[0m \u001b[0;34m==\u001b[0m \u001b[0;34m'Ziggs (mage)'\u001b[0m\u001b[0;34m]\u001b[0m\u001b[0;34m\u001b[0m\u001b[0;34m\u001b[0m\u001b[0m\n\u001b[0m",
      "\u001b[0;32m~/data/sourcegit/lol_builds/.venv/lib/python3.10/site-packages/pandas/core/generic.py\u001b[0m in \u001b[0;36m?\u001b[0;34m(self)\u001b[0m\n\u001b[1;32m   1575\u001b[0m     \u001b[0;34m@\u001b[0m\u001b[0mfinal\u001b[0m\u001b[0;34m\u001b[0m\u001b[0;34m\u001b[0m\u001b[0m\n\u001b[1;32m   1576\u001b[0m     \u001b[0;32mdef\u001b[0m \u001b[0m__nonzero__\u001b[0m\u001b[0;34m(\u001b[0m\u001b[0mself\u001b[0m\u001b[0;34m)\u001b[0m \u001b[0;34m->\u001b[0m \u001b[0mNoReturn\u001b[0m\u001b[0;34m:\u001b[0m\u001b[0;34m\u001b[0m\u001b[0;34m\u001b[0m\u001b[0m\n\u001b[0;32m-> 1577\u001b[0;31m         raise ValueError(\n\u001b[0m\u001b[1;32m   1578\u001b[0m             \u001b[0;34mf\"The truth value of a {type(self).__name__} is ambiguous. \"\u001b[0m\u001b[0;34m\u001b[0m\u001b[0;34m\u001b[0m\u001b[0m\n\u001b[1;32m   1579\u001b[0m             \u001b[0;34m\"Use a.empty, a.bool(), a.item(), a.any() or a.all().\"\u001b[0m\u001b[0;34m\u001b[0m\u001b[0;34m\u001b[0m\u001b[0m\n\u001b[1;32m   1580\u001b[0m         )\n",
      "\u001b[0;31mValueError\u001b[0m: The truth value of a Series is ambiguous. Use a.empty, a.bool(), a.item(), a.any() or a.all()."
     ]
    }
   ],
   "source": [
    "df.loc[df['lane'] == 'TOP' and df['champion_1'] == 'Ziggs (mage)']"
   ]
  },
  {
   "cell_type": "code",
   "execution_count": 56,
   "metadata": {},
   "outputs": [
    {
     "data": {
      "text/html": [
       "<div>\n",
       "<style scoped>\n",
       "    .dataframe tbody tr th:only-of-type {\n",
       "        vertical-align: middle;\n",
       "    }\n",
       "\n",
       "    .dataframe tbody tr th {\n",
       "        vertical-align: top;\n",
       "    }\n",
       "\n",
       "    .dataframe thead th {\n",
       "        text-align: right;\n",
       "    }\n",
       "</style>\n",
       "<table border=\"1\" class=\"dataframe\">\n",
       "  <thead>\n",
       "    <tr style=\"text-align: right;\">\n",
       "      <th></th>\n",
       "      <th>champion_1</th>\n",
       "      <th>champion_2</th>\n",
       "      <th>lane</th>\n",
       "      <th>ally_champions_1</th>\n",
       "      <th>enemy_champions_1</th>\n",
       "      <th>ally_champions_2</th>\n",
       "      <th>enemy_champions_2</th>\n",
       "      <th>items_1_early</th>\n",
       "      <th>items_1_mid</th>\n",
       "      <th>items_1_late</th>\n",
       "      <th>...</th>\n",
       "      <th>summoner_spells_2</th>\n",
       "      <th>ally_1</th>\n",
       "      <th>ally_2</th>\n",
       "      <th>ally_3</th>\n",
       "      <th>ally_4</th>\n",
       "      <th>enemy_1</th>\n",
       "      <th>enemy_2</th>\n",
       "      <th>enemy_3</th>\n",
       "      <th>enemy_4</th>\n",
       "      <th>enemy_5</th>\n",
       "    </tr>\n",
       "  </thead>\n",
       "  <tbody>\n",
       "    <tr>\n",
       "      <th>55885</th>\n",
       "      <td>Thresh (tank)</td>\n",
       "      <td>Shen (tank)</td>\n",
       "      <td>TOP</td>\n",
       "      <td>[Nocturne, Syndra, Twitch, Milio]</td>\n",
       "      <td>[Shen, Olaf, Anivia, Jhin, Sona]</td>\n",
       "      <td>[Olaf, Anivia, Jhin, Sona]</td>\n",
       "      <td>[Thresh, Nocturne, Syndra, Twitch, Milio]</td>\n",
       "      <td>Buy Doran's Shield -&gt; Buy Boots of Swiftness</td>\n",
       "      <td>Buy Bami's Cinder -&gt; Buy Spectre's Cowl -&gt; Buy...</td>\n",
       "      <td>NaN</td>\n",
       "      <td>...</td>\n",
       "      <td>['Ignite', 'Flash']</td>\n",
       "      <td>Nocturne</td>\n",
       "      <td>Syndra</td>\n",
       "      <td>Twitch</td>\n",
       "      <td>Milio</td>\n",
       "      <td>Shen</td>\n",
       "      <td>Olaf</td>\n",
       "      <td>Anivia</td>\n",
       "      <td>Jhin</td>\n",
       "      <td>Sona</td>\n",
       "    </tr>\n",
       "  </tbody>\n",
       "</table>\n",
       "<p>1 rows × 25 columns</p>\n",
       "</div>"
      ],
      "text/plain": [
       "          champion_1   champion_2 lane                   ally_champions_1  \\\n",
       "55885  Thresh (tank)  Shen (tank)  TOP  [Nocturne, Syndra, Twitch, Milio]   \n",
       "\n",
       "                      enemy_champions_1            ally_champions_2  \\\n",
       "55885  [Shen, Olaf, Anivia, Jhin, Sona]  [Olaf, Anivia, Jhin, Sona]   \n",
       "\n",
       "                               enemy_champions_2  \\\n",
       "55885  [Thresh, Nocturne, Syndra, Twitch, Milio]   \n",
       "\n",
       "                                      items_1_early  \\\n",
       "55885  Buy Doran's Shield -> Buy Boots of Swiftness   \n",
       "\n",
       "                                             items_1_mid items_1_late  ...  \\\n",
       "55885  Buy Bami's Cinder -> Buy Spectre's Cowl -> Buy...          NaN  ...   \n",
       "\n",
       "         summoner_spells_2    ally_1  ally_2  ally_3 ally_4 enemy_1 enemy_2  \\\n",
       "55885  ['Ignite', 'Flash']  Nocturne  Syndra  Twitch  Milio    Shen    Olaf   \n",
       "\n",
       "      enemy_3 enemy_4 enemy_5  \n",
       "55885  Anivia    Jhin    Sona  \n",
       "\n",
       "[1 rows x 25 columns]"
      ]
     },
     "execution_count": 56,
     "metadata": {},
     "output_type": "execute_result"
    }
   ],
   "source": [
    "df.loc[df['champion_1'] == 'Thresh (tank)'].loc[df['lane'] == 'TOP']"
   ]
  },
  {
   "cell_type": "code",
   "execution_count": 57,
   "metadata": {},
   "outputs": [
    {
     "data": {
      "text/plain": [
       "True"
      ]
     },
     "execution_count": 57,
     "metadata": {},
     "output_type": "execute_result"
    }
   ],
   "source": [
    "'item' in \"item_patch_diff.json\""
   ]
  },
  {
   "cell_type": "code",
   "execution_count": 58,
   "metadata": {},
   "outputs": [
    {
     "data": {
      "text/plain": [
       "4241922417794061"
      ]
     },
     "execution_count": 58,
     "metadata": {},
     "output_type": "execute_result"
    }
   ],
   "source": [
    "import numpy as np\n",
    "import math\n",
    "\n",
    "#n choose k, n=170, k = 10\n",
    "math.comb(170, 10)\n"
   ]
  },
  {
   "cell_type": "code",
   "execution_count": 59,
   "metadata": {},
   "outputs": [],
   "source": [
    "#show duplicate rows regarding the columns in list_columns\n",
    "duplicate_rows = df[cols].duplicated(keep=False)\n",
    "if duplicate_rows.any():\n",
    "    print(\"Duplicate rows found:\")\n",
    "    print(df[duplicate_rows])"
   ]
  },
  {
   "cell_type": "code",
   "execution_count": 60,
   "metadata": {},
   "outputs": [],
   "source": [
    "# Function to check if a validation example exists\n",
    "def matchup_seen(player_champ, enemy_champ, allies, enemies, dataframe):\n",
    "    matched_indices = []\n",
    "\n",
    "    for idx, row in dataframe.iterrows():\n",
    "        if (\n",
    "            (row['champion_1'].lower() == player_champ.lower()) and\n",
    "            (row['champion_2'].lower() == enemy_champ.lower()) and\n",
    "            (set(map(str.lower, row['ally_champions_1'])) == set(map(str.lower, allies))) and\n",
    "            (set(map(str.lower, row['enemy_champions_1'])) == set(map(str.lower, enemies)))\n",
    "        ):\n",
    "            matched_indices.append(idx)\n",
    "\n",
    "    if matched_indices:\n",
    "        return dataframe.loc[matched_indices]  # << return matching rows\n",
    "    else:\n",
    "        return pd.DataFrame()  # << return empty dataframe if no match"
   ]
  },
  {
   "cell_type": "code",
   "execution_count": 61,
   "metadata": {},
   "outputs": [
    {
     "name": "stdout",
     "output_type": "stream",
     "text": [
      "🦥 Unsloth: Will patch your computer to enable 2x faster free finetuning.\n"
     ]
    },
    {
     "name": "stderr",
     "output_type": "stream",
     "text": [
      "/home/hatim/data/sourcegit/lol_builds/.venv/lib/python3.10/site-packages/tqdm/auto.py:21: TqdmWarning: IProgress not found. Please update jupyter and ipywidgets. See https://ipywidgets.readthedocs.io/en/stable/user_install.html\n",
      "  from .autonotebook import tqdm as notebook_tqdm\n"
     ]
    },
    {
     "name": "stdout",
     "output_type": "stream",
     "text": [
      "Unsloth: Failed to patch Gemma3ForConditionalGeneration.\n",
      "🦥 Unsloth Zoo will now patch everything to make training faster!\n",
      "==((====))==  Unsloth 2025.3.19: Fast Llama patching. Transformers: 4.51.2.\n",
      "   \\\\   /|    NVIDIA GeForce RTX 3060. Num GPUs = 1. Max memory: 11.723 GB. Platform: Linux.\n",
      "O^O/ \\_/ \\    Torch: 2.6.0+cu124. CUDA: 8.6. CUDA Toolkit: 12.4. Triton: 3.2.0\n",
      "\\        /    Bfloat16 = TRUE. FA [Xformers = 0.0.29.post3. FA2 = False]\n",
      " \"-____-\"     Free license: http://github.com/unslothai/unsloth\n",
      "Unsloth: Fast downloading is enabled - ignore downloading bars which are red colored!\n"
     ]
    },
    {
     "name": "stderr",
     "output_type": "stream",
     "text": [
      "Unsloth 2025.3.19 patched 28 layers with 0 QKV layers, 0 O layers and 0 MLP layers.\n"
     ]
    }
   ],
   "source": [
    "from unsloth import FastLanguageModel\n",
    "import torch\n",
    "\n",
    "# Load fine-tuned model\n",
    "model, tokenizer = FastLanguageModel.from_pretrained(\n",
    "    model_name=\"data/llama3b-qlora\",\n",
    "    max_seq_length=512,\n",
    "    dtype=torch.bfloat16,\n",
    "    load_in_4bit=True,\n",
    ")\n",
    "\n",
    "model = FastLanguageModel.for_inference(model)"
   ]
  },
  {
   "cell_type": "code",
   "execution_count": 62,
   "metadata": {},
   "outputs": [],
   "source": [
    "from datasets import load_dataset\n",
    "\n",
    "val_dataset = load_dataset(\"json\", data_files=\"data/val.jsonl\", split=\"train\")"
   ]
  },
  {
   "cell_type": "code",
   "execution_count": 68,
   "metadata": {},
   "outputs": [
    {
     "name": "stdout",
     "output_type": "stream",
     "text": [
      "**Champion Patch Notes:**\n",
      "- Neeko spell 1 description changed across ranks.\n",
      "- Neeko spell 3 description changed across ranks.\n",
      "\n",
      "**Item Patch Notes:**\n",
      "- Umbral Glaive FlatPhysicalDamageMod increased from 50 to 55.\n",
      "- Catalyst of Aeons FlatMPPoolMod increased from 300 to 375.\n",
      "\n",
      "You are playing Heimerdinger (mage) on the TOP lane against Jayce (marksman/fighter). Your team consists of Poppy, Taliyah, Ezreal, Neeko, while the enemy team includes Jayce, Vi, Ahri, Jinx, Nautilus. You have the summoner spells Exhaust, Teleport and the runes Conqueror, Presence of Mind, Legend: Haste, Coup de Grace, Manaflow Band, Gathering Storm. Your opponent uses Teleport, Flash and the keystone rune Grasp of the Undying. What items should you build during the early, mid, and late game?\n"
     ]
    }
   ],
   "source": [
    "i = 837\n",
    "example = val_dataset[i]\n",
    "print(example['prompt'])"
   ]
  },
  {
   "cell_type": "code",
   "execution_count": 69,
   "metadata": {},
   "outputs": [
    {
     "data": {
      "text/plain": [
       "['Rumble', 'Gragas', 'Yasuo', 'MissFortune', 'Milio']"
      ]
     },
     "execution_count": 69,
     "metadata": {},
     "output_type": "execute_result"
    }
   ],
   "source": [
    "\"Rumble, Gragas, Yasuo, MissFortune, Milio\".strip().split(\", \")"
   ]
  },
  {
   "cell_type": "code",
   "execution_count": 70,
   "metadata": {},
   "outputs": [],
   "source": [
    "c1 = 'Yone (fighter/assassin)'\n",
    "c2 = 'Rumble (fighter/mage)'\n",
    "allies = ['Naafiri', 'Leblanc', 'Caitlyn', 'Lux']\n",
    "enemies = ['Rumble', 'Gragas', 'Yasuo', 'MissFortune', 'Milio']\n",
    "real = matchup_seen(c1, c2, allies, enemies, df)"
   ]
  },
  {
   "cell_type": "code",
   "execution_count": 71,
   "metadata": {},
   "outputs": [
    {
     "data": {
      "text/html": [
       "<div>\n",
       "<style scoped>\n",
       "    .dataframe tbody tr th:only-of-type {\n",
       "        vertical-align: middle;\n",
       "    }\n",
       "\n",
       "    .dataframe tbody tr th {\n",
       "        vertical-align: top;\n",
       "    }\n",
       "\n",
       "    .dataframe thead th {\n",
       "        text-align: right;\n",
       "    }\n",
       "</style>\n",
       "<table border=\"1\" class=\"dataframe\">\n",
       "  <thead>\n",
       "    <tr style=\"text-align: right;\">\n",
       "      <th></th>\n",
       "      <th>champion_1</th>\n",
       "      <th>champion_2</th>\n",
       "      <th>lane</th>\n",
       "      <th>ally_champions_1</th>\n",
       "      <th>enemy_champions_1</th>\n",
       "      <th>ally_champions_2</th>\n",
       "      <th>enemy_champions_2</th>\n",
       "      <th>items_1_early</th>\n",
       "      <th>items_1_mid</th>\n",
       "      <th>items_1_late</th>\n",
       "      <th>...</th>\n",
       "      <th>summoner_spells_2</th>\n",
       "      <th>ally_1</th>\n",
       "      <th>ally_2</th>\n",
       "      <th>ally_3</th>\n",
       "      <th>ally_4</th>\n",
       "      <th>enemy_1</th>\n",
       "      <th>enemy_2</th>\n",
       "      <th>enemy_3</th>\n",
       "      <th>enemy_4</th>\n",
       "      <th>enemy_5</th>\n",
       "    </tr>\n",
       "  </thead>\n",
       "  <tbody>\n",
       "    <tr>\n",
       "      <th>37986</th>\n",
       "      <td>Yone (fighter/assassin)</td>\n",
       "      <td>Rumble (fighter/mage)</td>\n",
       "      <td>TOP</td>\n",
       "      <td>[Naafiri, Leblanc, Caitlyn, Lux]</td>\n",
       "      <td>[Rumble, Gragas, Yasuo, MissFortune, Milio]</td>\n",
       "      <td>[Gragas, Yasuo, MissFortune, Milio]</td>\n",
       "      <td>[Yone, Naafiri, Leblanc, Caitlyn, Lux]</td>\n",
       "      <td>Buy Doran's Shield -&gt; Buy Recurve Bow -&gt; Buy B...</td>\n",
       "      <td>Buy Vampiric Scepter -&gt; Buy Blade of The Ruine...</td>\n",
       "      <td>NaN</td>\n",
       "      <td>...</td>\n",
       "      <td>['Flash', 'Teleport']</td>\n",
       "      <td>Naafiri</td>\n",
       "      <td>Leblanc</td>\n",
       "      <td>Caitlyn</td>\n",
       "      <td>Lux</td>\n",
       "      <td>Rumble</td>\n",
       "      <td>Gragas</td>\n",
       "      <td>Yasuo</td>\n",
       "      <td>MissFortune</td>\n",
       "      <td>Milio</td>\n",
       "    </tr>\n",
       "  </tbody>\n",
       "</table>\n",
       "<p>1 rows × 25 columns</p>\n",
       "</div>"
      ],
      "text/plain": [
       "                    champion_1             champion_2 lane  \\\n",
       "37986  Yone (fighter/assassin)  Rumble (fighter/mage)  TOP   \n",
       "\n",
       "                       ally_champions_1  \\\n",
       "37986  [Naafiri, Leblanc, Caitlyn, Lux]   \n",
       "\n",
       "                                 enemy_champions_1  \\\n",
       "37986  [Rumble, Gragas, Yasuo, MissFortune, Milio]   \n",
       "\n",
       "                          ally_champions_2  \\\n",
       "37986  [Gragas, Yasuo, MissFortune, Milio]   \n",
       "\n",
       "                            enemy_champions_2  \\\n",
       "37986  [Yone, Naafiri, Leblanc, Caitlyn, Lux]   \n",
       "\n",
       "                                           items_1_early  \\\n",
       "37986  Buy Doran's Shield -> Buy Recurve Bow -> Buy B...   \n",
       "\n",
       "                                             items_1_mid items_1_late  ...  \\\n",
       "37986  Buy Vampiric Scepter -> Buy Blade of The Ruine...          NaN  ...   \n",
       "\n",
       "           summoner_spells_2   ally_1   ally_2   ally_3 ally_4 enemy_1  \\\n",
       "37986  ['Flash', 'Teleport']  Naafiri  Leblanc  Caitlyn    Lux  Rumble   \n",
       "\n",
       "      enemy_2 enemy_3      enemy_4 enemy_5  \n",
       "37986  Gragas   Yasuo  MissFortune   Milio  \n",
       "\n",
       "[1 rows x 25 columns]"
      ]
     },
     "execution_count": 71,
     "metadata": {},
     "output_type": "execute_result"
    }
   ],
   "source": [
    "real"
   ]
  },
  {
   "cell_type": "code",
   "execution_count": 72,
   "metadata": {},
   "outputs": [
    {
     "name": "stdout",
     "output_type": "stream",
     "text": [
      "\n",
      "==================================================\n",
      "📝 PROMPT:\n",
      "**Champion Patch Notes:**\n",
      "- Neeko spell 1 description changed across ranks.\n",
      "- Neeko spell 3 description changed across ranks.\n",
      "\n",
      "**Item Patch Notes:**\n",
      "- Umbral Glaive FlatPhysicalDamageMod increased from 50 to 55.\n",
      "- Catalyst of Aeons FlatMPPoolMod increased from 300 to 375.\n",
      "\n",
      "You are playing Heimerdinger (mage) on the TOP lane against Jayce (marksman/fighter). Your team consists of Poppy, Taliyah, Ezreal, Neeko, while the enemy team includes Jayce, Vi, Ahri, Jinx, Nautilus. You have the summoner spells Exhaust, Teleport and the runes Conqueror, Presence of Mind, Legend: Haste, Coup de Grace, Manaflow Band, Gathering Storm. Your opponent uses Teleport, Flash and the keystone rune Grasp of the Undying. What items should you build during the early, mid, and late game?\n",
      "==================================================\n",
      "\n",
      "✅ GROUND TRUTH COMPLETION:\n",
      "**Early Game:** Buy Doran's Ring -> Buy Lost Chapter -> Buy Blackfire Torch\n",
      "**Mid Game:** Buy Haunting Guise -> Buy Sorcerer's Shoes -> Buy Liandry's Torment -> Buy Blighting Jewel -> Buy Void Staff\n",
      "**Late Game:** No items.\n",
      "==================================================\n",
      "\n",
      "🚀 MODEL PREDICTION:\n",
      "**Early Game:** Buy Doran's Ring -> Buy Lost Chapter\n",
      "**Mid Game:** Buy Blackfire Torch -> Buy Sorcerer's Shoes -> Buy Fated Ashes -> Buy Liandry's Torment -> Buy Spellslinger's Shoes -> Buy Giant's Belt -> Sell Doran's Ring\n",
      "**Late Game:** Buy Rylai's Crystal Scepter -> Buy Blighting Jewel -> Buy Void Staff -> Buy Seeker's Armguard -> Buy Zhonya's Hourglass -> Buy Negatron Cloak -> Buy Abyssal Mask -> Sell Spellslinger's Shoes -> Buy Oblivion Orb -> Buy Hextech Alternator -> Buy Shadowflame -> Sell Oblivion Orb -> Buy Rabadon's Deathcap -> Sell Rabadon's Deathcap -> Buy Sorcerer's Shoes -> Buy Blighting Jewel -> Buy Void Staff -> Buy Morellonomicon -> Sell Doran's Ring -> Buy Void Staff -> Buy Seeker's Armguard -> Buy Zhonya's Hourglass -> Buy Spellslinger's Shoes -> Buy Mejai's Soulstealer -> Sell Mejai's Soulstealer -> Buy Hextech Alternator -> Buy Shadowflame -> Buy Spellslinger's Shoes -> Buy Rabadon's Deathcap -> Buy Blighting Jewel -> Buy Void Staff ->\n",
      "==================================================\n",
      "\n"
     ]
    }
   ],
   "source": [
    "prompt = example[\"prompt\"]\n",
    "ground_truth = example[\"completion\"]\n",
    "\n",
    "# Run inference\n",
    "inputs = tokenizer(prompt, return_tensors=\"pt\").to(model.device)\n",
    "outputs = model.generate(**inputs, max_new_tokens=256)\n",
    "generated_text = tokenizer.decode(outputs[0], skip_special_tokens=True)\n",
    "\n",
    "# Format output\n",
    "print(\"\\n\" + \"=\" * 50)\n",
    "print(\"📝 PROMPT:\")\n",
    "print(prompt)\n",
    "print(\"=\" * 50)\n",
    "\n",
    "print(\"\\n✅ GROUND TRUTH COMPLETION:\")\n",
    "print(ground_truth)\n",
    "print(\"=\" * 50)\n",
    "\n",
    "\n",
    "print(\"\\n🚀 MODEL PREDICTION:\")\n",
    "# If the model includes the prompt again (it often does in decoding), strip it\n",
    "pred_only = generated_text.replace(prompt, \"\").strip()\n",
    "print(pred_only)\n",
    "print(\"=\" * 50 + \"\\n\")\n"
   ]
  },
  {
   "cell_type": "code",
   "execution_count": null,
   "metadata": {},
   "outputs": [],
   "source": []
  }
 ],
 "metadata": {
  "kernelspec": {
   "display_name": ".venv",
   "language": "python",
   "name": "python3"
  },
  "language_info": {
   "codemirror_mode": {
    "name": "ipython",
    "version": 3
   },
   "file_extension": ".py",
   "mimetype": "text/x-python",
   "name": "python",
   "nbconvert_exporter": "python",
   "pygments_lexer": "ipython3",
   "version": "3.10.12"
  }
 },
 "nbformat": 4,
 "nbformat_minor": 2
}
