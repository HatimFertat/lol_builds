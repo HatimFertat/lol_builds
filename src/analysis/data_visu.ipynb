{
 "cells": [
  {
   "cell_type": "code",
   "execution_count": 7,
   "metadata": {},
   "outputs": [],
   "source": [
    "import os\n",
    "# os.chdir('/home/hatim/data/sourcegit/lol_builds')\n",
    "os.chdir('/Users/wota/Documents/projects/lol')"
   ]
  },
  {
   "cell_type": "code",
   "execution_count": 8,
   "metadata": {},
   "outputs": [],
   "source": [
    "import sqlite3\n",
    "import pandas as pd\n",
    "\n",
    "conn = sqlite3.connect('data/matches.db')\n",
    "df = pd.read_sql_query(\"SELECT * FROM match_records\", conn)\n",
    "conn.close()"
   ]
  },
  {
   "cell_type": "code",
   "execution_count": 9,
   "metadata": {},
   "outputs": [
    {
     "data": {
      "text/plain": [
       "Index(['match_id', 'patch_start', 'region', 'lane', 'champion_1', 'champion_2',\n",
       "       'win_1', 'win_2', 'kda_1', 'kda_2', 'gold_1', 'gold_2', 'items_1',\n",
       "       'items_2', 'damage_dealt_1', 'damage_dealt_2', 'damage_taken_1',\n",
       "       'damage_taken_2', 'damage_to_objectives_1', 'damage_to_objectives_2',\n",
       "       'vision_score_1', 'vision_score_2', 'cs_1', 'cs_2',\n",
       "       'kill_participation_1', 'kill_participation_2', 'cc_score_1',\n",
       "       'cc_score_2', 'gold_spent_1', 'gold_spent_2', 'champion_transform_1',\n",
       "       'champion_transform_2', 'individual_position_1',\n",
       "       'individual_position_2', 'team_id_1', 'team_id_2', 'bounty_level_1',\n",
       "       'bounty_level_2', 'physical_damage_dealt_1', 'physical_damage_dealt_2',\n",
       "       'magic_damage_dealt_1', 'magic_damage_dealt_2', 'true_damage_dealt_1',\n",
       "       'true_damage_dealt_2', 'physical_damage_taken_1',\n",
       "       'physical_damage_taken_2', 'magic_damage_taken_1',\n",
       "       'magic_damage_taken_2', 'true_damage_taken_1', 'true_damage_taken_2',\n",
       "       'total_damage_dealt_1', 'total_damage_dealt_2',\n",
       "       'damage_self_mitigated_1', 'damage_self_mitigated_2',\n",
       "       'turret_takedowns_1', 'turret_takedowns_2', 'dragon_takedowns_1',\n",
       "       'dragon_takedowns_2', 'baron_takedowns_1', 'baron_takedowns_2',\n",
       "       'longest_time_living_1', 'longest_time_living_2', 'champ_experience_1',\n",
       "       'champ_experience_2', 'time_played_1', 'time_played_2',\n",
       "       'match_duration', 'first_blood_kill_1', 'first_blood_kill_2',\n",
       "       'first_blood_assist_1', 'first_blood_assist_2', 'ally_champions_1',\n",
       "       'ally_champions_2', 'enemy_champions_1', 'enemy_champions_2', 'runes_1',\n",
       "       'runes_2', 'summoner_spells_1', 'summoner_spells_2'],\n",
       "      dtype='object')"
      ]
     },
     "execution_count": 9,
     "metadata": {},
     "output_type": "execute_result"
    }
   ],
   "source": [
    "df.columns"
   ]
  },
  {
   "cell_type": "code",
   "execution_count": 10,
   "metadata": {},
   "outputs": [
    {
     "data": {
      "text/plain": [
       "28"
      ]
     },
     "execution_count": 10,
     "metadata": {},
     "output_type": "execute_result"
    }
   ],
   "source": [
    "l = [{'itemId': 1055, 'timestamp': 5498, 'phase': 'early', 'action': 'ITEM_PURCHASED'}, {'itemId': 3340, 'timestamp': 5832, 'phase': 'early', 'action': 'ITEM_PURCHASED'}, {'itemId': 2003, 'timestamp': 6166, 'phase': 'early', 'action': 'ITEM_PURCHASED'}, {'itemId': 3134, 'timestamp': 398443, 'phase': 'early', 'action': 'ITEM_PURCHASED'}, {'itemId': 1036, 'timestamp': 399245, 'phase': 'early', 'action': 'ITEM_PURCHASED'}, {'itemId': 1001, 'timestamp': 400180, 'phase': 'early', 'action': 'ITEM_PURCHASED'}, {'itemId': 6690, 'timestamp': 539225, 'phase': 'early', 'action': 'ITEM_PURCHASED'}, {'itemId': 1029, 'timestamp': 540522, 'phase': 'early', 'action': 'ITEM_PURCHASED'}, {'itemId': 3142, 'timestamp': 679256, 'phase': 'mid', 'action': 'ITEM_PURCHASED'}, {'itemId': 2022, 'timestamp': 689058, 'phase': 'mid', 'action': 'ITEM_PURCHASED'}, {'itemId': 3047, 'timestamp': 810365, 'phase': 'mid', 'action': 'ITEM_PURCHASED'}, {'itemId': 1036, 'timestamp': 938251, 'phase': 'mid', 'action': 'ITEM_PURCHASED'}, {'itemId': 1036, 'timestamp': 938418, 'phase': 'mid', 'action': 'ITEM_PURCHASED'}, {'itemId': 2021, 'timestamp': 1044823, 'phase': 'mid', 'action': 'ITEM_PURCHASED'}, {'itemId': 3133, 'timestamp': 1187112, 'phase': 'mid', 'action': 'ITEM_PURCHASED'}, {'itemId': 1028, 'timestamp': 1187413, 'phase': 'mid', 'action': 'ITEM_PURCHASED'}, {'itemId': 6610, 'timestamp': 1241932, 'phase': 'mid', 'action': 'ITEM_PURCHASED'}, {'itemId': 1037, 'timestamp': 1276985, 'phase': 'mid', 'action': 'ITEM_PURCHASED'}, {'itemId': 3044, 'timestamp': 1366928, 'phase': 'mid', 'action': 'ITEM_PURCHASED'}, {'itemId': 3071, 'timestamp': 1620055, 'phase': 'late', 'action': 'ITEM_PURCHASED'}, {'itemId': 1028, 'timestamp': 1628884, 'phase': 'late', 'action': 'ITEM_PURCHASED'}, {'itemId': 2021, 'timestamp': 1804536, 'phase': 'late', 'action': 'ITEM_PURCHASED'}, {'itemId': 3053, 'timestamp': 1951844, 'phase': 'late', 'action': 'ITEM_PURCHASED'}, {'itemId': 2138, 'timestamp': 1952846, 'phase': 'late', 'action': 'ITEM_PURCHASED'}, {'itemId': 1055, 'timestamp': 2096424, 'phase': 'late', 'action': 'ITEM_SOLD'}, {'itemId': 2021, 'timestamp': 2098297, 'phase': 'late', 'action': 'ITEM_PURCHASED'}, {'itemId': 3814, 'timestamp': 2383955, 'phase': 'late', 'action': 'ITEM_PURCHASED'}, {'itemId': 2138, 'timestamp': 2509589, 'phase': 'late', 'action': 'ITEM_PURCHASED'}]\n",
    "len(l)"
   ]
  },
  {
   "cell_type": "code",
   "execution_count": 12,
   "metadata": {},
   "outputs": [],
   "source": [
    "# Buy Doran's Blade @00:00 early -> Buy Stealth Ward @00:00 early -> Buy Health Potion @00:00 early -> Buy Serrated Dirk @06:45 early -> Buy Long Sword @06:45 early -> Buy Boots @06:45 early -> Buy Rectrix @09:00 early -> Buy Cloth Armor @09:00 early -> Buy Youmuu's Ghostblade @11:15 mid -> Buy Glowing Mote @11:30 mid -> Buy Plated Steelcaps @13:30 mid -> Buy Long Sword @15:45 mid -> Buy Long Sword @15:45 mid -> Buy Tunneler @17:30 mid -> Buy Caulfield's Warhammer @19:45 mid -> Buy Ruby Crystal @19:45 mid -> Buy Sundered Sky @20:45 mid -> Buy Pickaxe @21:15 mid -> Buy Phage @22:45 mid -> Buy Black Cleaver @27:00 late -> Buy Ruby Crystal @27:15 late -> Buy Tunneler @30:00 late -> Buy Sterak's Gage @32:30 late -> Buy Elixir of Iron @32:30 late -> Sell Doran's Blade @35:00 late -> Buy Tunneler @35:00 late -> Buy Edge of Night @39:45 late -> Buy Elixir of Iron @41:45 late,Buy Doran's Blade @00:00 early -> Buy Health Potion @00:00 early -> Buy Tear of the Goddess @03:30 early -> Buy Health Potion @03:30 early -> Buy Ruby Crystal @06:15 early -> Action UnknownItemNone @06:15 early -> Buy Pickaxe @06:15 early -> Buy Refillable Potion @06:15 early -> Buy Control Ward @06:15 early -> Sell Total Biscuit of Everlasting Will @08:45 early -> Sell Total Biscuit of Everlasting Will @08:45 early -> Buy Ruby Crystal @08:45 early -> Buy Black Cleaver @11:15 mid -> Buy Control Ward @11:30 mid -> Sell Refillable Potion @14:30 mid -> Buy Spear of Shojin @14:30 mid -> Buy Oracle Lens @14:30 mid -> Buy Caulfield's Warhammer @16:45 mid -> Buy Manamune @20:45 mid -> Buy Null-Magic Mantle @20:45 mid -> Buy Mercury's Treads @23:15 mid -> Buy Serrated Dirk @23:15 mid -> Buy Edge of Night @27:00 late -> Sell Doran's Blade @27:00 late -> Buy Pickaxe @27:00 late -> Action UnknownItemNone @27:00 late -> Buy B. F. Sword @27:00 late -> Buy Guardian Angel @31:00 late -> Buy Chainlaced Crushers @34:15 late -> Buy Elixir of Wrath @34:15 late -> Buy Elixir of Wrath @36:30 late -> Sell Black Cleaver @37:15 late -> Buy Serylda's Grudge @37:15 late -> Buy Elixir of Wrath @37:15 late -> Buy Elixir of Wrath @39:30 late -> Buy Elixir of Wrath @41:45 late,"
   ]
  },
  {
   "cell_type": "code",
   "execution_count": 13,
   "metadata": {},
   "outputs": [
    {
     "data": {
      "text/plain": [
       "region\n",
       "KR      7130\n",
       "EUW     7110\n",
       "NA      7110\n",
       "BR      5209\n",
       "LAN     4669\n",
       "LAS     4650\n",
       "EUNE    4449\n",
       "OCE     1109\n",
       "JP       975\n",
       "Name: count, dtype: int64"
      ]
     },
     "execution_count": 13,
     "metadata": {},
     "output_type": "execute_result"
    }
   ],
   "source": [
    "df.region.value_counts()"
   ]
  },
  {
   "cell_type": "code",
   "execution_count": 14,
   "metadata": {},
   "outputs": [
    {
     "data": {
      "text/plain": [
       "champion_1\n",
       "Tristana        854\n",
       "Ezreal          825\n",
       "Kaisa           815\n",
       "Ahri            648\n",
       "Jhin            648\n",
       "               ... \n",
       "Heimerdinger     51\n",
       "Rammus           41\n",
       "Illaoi           37\n",
       "Amumu            32\n",
       "Shyvana          30\n",
       "Name: count, Length: 170, dtype: int64"
      ]
     },
     "execution_count": 14,
     "metadata": {},
     "output_type": "execute_result"
    }
   ],
   "source": [
    "df['champion_1'].value_counts()"
   ]
  },
  {
   "cell_type": "code",
   "execution_count": 15,
   "metadata": {},
   "outputs": [
    {
     "data": {
      "text/plain": [
       "np.float64(0.521539223314706)"
      ]
     },
     "execution_count": 15,
     "metadata": {},
     "output_type": "execute_result"
    }
   ],
   "source": [
    "df['win_1'].mean()"
   ]
  },
  {
   "cell_type": "code",
   "execution_count": 16,
   "metadata": {},
   "outputs": [
    {
     "data": {
      "text/plain": [
       "lane\n",
       "JUNGLE     8483\n",
       "TOP        8482\n",
       "MIDDLE     8482\n",
       "BOTTOM     8482\n",
       "UTILITY    8482\n",
       "Name: count, dtype: int64"
      ]
     },
     "execution_count": 16,
     "metadata": {},
     "output_type": "execute_result"
    }
   ],
   "source": [
    "df['lane'].value_counts()"
   ]
  },
  {
   "cell_type": "code",
   "execution_count": 17,
   "metadata": {},
   "outputs": [
    {
     "name": "stdout",
     "output_type": "stream",
     "text": [
      "No identical rows found.\n",
      "Missing values found:\n",
      "kill_participation_1       44\n",
      "kill_participation_2       35\n",
      "gold_per_minute_1       42411\n",
      "gold_per_minute_2       42411\n",
      "xp_diff_per_minute_1    42411\n",
      "xp_diff_per_minute_2    42411\n",
      "dtype: int64\n",
      "Indices of missing values:\n",
      "Number of missing values:\n",
      "169723\n",
      "Number of missing values per column:\n",
      "kill_participation_1       44\n",
      "kill_participation_2       35\n",
      "gold_per_minute_1       42411\n",
      "gold_per_minute_2       42411\n",
      "xp_diff_per_minute_1    42411\n",
      "xp_diff_per_minute_2    42411\n",
      "dtype: int64\n",
      "Total number of missing values:\n",
      "169723\n"
     ]
    }
   ],
   "source": [
    "#check for identical rows\n",
    "identical_rows = df[df.duplicated(keep=False)]\n",
    "if not identical_rows.empty:\n",
    "    print(\"Identical rows found:\")\n",
    "    print(identical_rows)\n",
    "else:\n",
    "    print(\"No identical rows found.\")\n",
    "\n",
    "#check for missing values\n",
    "missing_values = df.isnull().sum()\n",
    "if missing_values.any():\n",
    "    print(\"Missing values found:\")\n",
    "    print(missing_values[missing_values > 0])\n",
    "    print('Indices of missing values:')\n",
    "    # for col in df.columns:\n",
    "        # if df[col].isnull().any():\n",
    "            # print(f\"Column '{col}' has missing values at indices: {df.index[df[col].isnull()].tolist()}\")\n",
    "    print('Number of missing values:')\n",
    "    print(missing_values[missing_values > 0].sum())\n",
    "    print('Number of missing values per column:')\n",
    "    print(missing_values[missing_values > 0])\n",
    "    print('Total number of missing values:')\n",
    "    print(missing_values.sum())\n",
    "else:\n",
    "    print(\"No missing values found.\")"
   ]
  },
  {
   "cell_type": "code",
   "execution_count": 18,
   "metadata": {},
   "outputs": [
    {
     "data": {
      "text/html": [
       "<div>\n",
       "<style scoped>\n",
       "    .dataframe tbody tr th:only-of-type {\n",
       "        vertical-align: middle;\n",
       "    }\n",
       "\n",
       "    .dataframe tbody tr th {\n",
       "        vertical-align: top;\n",
       "    }\n",
       "\n",
       "    .dataframe thead th {\n",
       "        text-align: right;\n",
       "    }\n",
       "</style>\n",
       "<table border=\"1\" class=\"dataframe\">\n",
       "  <thead>\n",
       "    <tr style=\"text-align: right;\">\n",
       "      <th></th>\n",
       "      <th>champion_1</th>\n",
       "      <th>champion_2</th>\n",
       "      <th>lane</th>\n",
       "      <th>ally_champions_1</th>\n",
       "      <th>enemy_champions_1</th>\n",
       "    </tr>\n",
       "  </thead>\n",
       "  <tbody>\n",
       "    <tr>\n",
       "      <th>0</th>\n",
       "      <td>Gwen</td>\n",
       "      <td>Camille</td>\n",
       "      <td>TOP</td>\n",
       "      <td>['Kayn', 'Sylas', 'Aphelios', 'Milio']</td>\n",
       "      <td>['Camille', 'Talon', 'Ahri', 'Vayne', 'Alistar']</td>\n",
       "    </tr>\n",
       "    <tr>\n",
       "      <th>1</th>\n",
       "      <td>Kayn</td>\n",
       "      <td>Talon</td>\n",
       "      <td>JUNGLE</td>\n",
       "      <td>['Gwen', 'Sylas', 'Aphelios', 'Milio']</td>\n",
       "      <td>['Camille', 'Talon', 'Ahri', 'Vayne', 'Alistar']</td>\n",
       "    </tr>\n",
       "    <tr>\n",
       "      <th>2</th>\n",
       "      <td>Sylas</td>\n",
       "      <td>Ahri</td>\n",
       "      <td>MIDDLE</td>\n",
       "      <td>['Gwen', 'Kayn', 'Aphelios', 'Milio']</td>\n",
       "      <td>['Camille', 'Talon', 'Ahri', 'Vayne', 'Alistar']</td>\n",
       "    </tr>\n",
       "    <tr>\n",
       "      <th>3</th>\n",
       "      <td>Aphelios</td>\n",
       "      <td>Vayne</td>\n",
       "      <td>BOTTOM</td>\n",
       "      <td>['Gwen', 'Kayn', 'Sylas', 'Milio']</td>\n",
       "      <td>['Camille', 'Talon', 'Ahri', 'Vayne', 'Alistar']</td>\n",
       "    </tr>\n",
       "    <tr>\n",
       "      <th>4</th>\n",
       "      <td>Milio</td>\n",
       "      <td>Alistar</td>\n",
       "      <td>UTILITY</td>\n",
       "      <td>['Gwen', 'Kayn', 'Sylas', 'Aphelios']</td>\n",
       "      <td>['Camille', 'Talon', 'Ahri', 'Vayne', 'Alistar']</td>\n",
       "    </tr>\n",
       "    <tr>\n",
       "      <th>...</th>\n",
       "      <td>...</td>\n",
       "      <td>...</td>\n",
       "      <td>...</td>\n",
       "      <td>...</td>\n",
       "      <td>...</td>\n",
       "    </tr>\n",
       "    <tr>\n",
       "      <th>42406</th>\n",
       "      <td>Jax</td>\n",
       "      <td>Gangplank</td>\n",
       "      <td>TOP</td>\n",
       "      <td>['DrMundo', 'Velkoz', 'Yasuo', 'Nami']</td>\n",
       "      <td>['Gangplank', 'LeeSin', 'Zoe', 'Tristana', 'Ka...</td>\n",
       "    </tr>\n",
       "    <tr>\n",
       "      <th>42407</th>\n",
       "      <td>DrMundo</td>\n",
       "      <td>LeeSin</td>\n",
       "      <td>JUNGLE</td>\n",
       "      <td>['Jax', 'Velkoz', 'Yasuo', 'Nami']</td>\n",
       "      <td>['Gangplank', 'LeeSin', 'Zoe', 'Tristana', 'Ka...</td>\n",
       "    </tr>\n",
       "    <tr>\n",
       "      <th>42408</th>\n",
       "      <td>Velkoz</td>\n",
       "      <td>Zoe</td>\n",
       "      <td>MIDDLE</td>\n",
       "      <td>['Jax', 'DrMundo', 'Yasuo', 'Nami']</td>\n",
       "      <td>['Gangplank', 'LeeSin', 'Zoe', 'Tristana', 'Ka...</td>\n",
       "    </tr>\n",
       "    <tr>\n",
       "      <th>42409</th>\n",
       "      <td>Yasuo</td>\n",
       "      <td>Tristana</td>\n",
       "      <td>BOTTOM</td>\n",
       "      <td>['Jax', 'DrMundo', 'Velkoz', 'Nami']</td>\n",
       "      <td>['Gangplank', 'LeeSin', 'Zoe', 'Tristana', 'Ka...</td>\n",
       "    </tr>\n",
       "    <tr>\n",
       "      <th>42410</th>\n",
       "      <td>Nami</td>\n",
       "      <td>Karma</td>\n",
       "      <td>UTILITY</td>\n",
       "      <td>['Jax', 'DrMundo', 'Velkoz', 'Yasuo']</td>\n",
       "      <td>['Gangplank', 'LeeSin', 'Zoe', 'Tristana', 'Ka...</td>\n",
       "    </tr>\n",
       "  </tbody>\n",
       "</table>\n",
       "<p>42411 rows × 5 columns</p>\n",
       "</div>"
      ],
      "text/plain": [
       "      champion_1 champion_2     lane                        ally_champions_1  \\\n",
       "0           Gwen    Camille      TOP  ['Kayn', 'Sylas', 'Aphelios', 'Milio']   \n",
       "1           Kayn      Talon   JUNGLE  ['Gwen', 'Sylas', 'Aphelios', 'Milio']   \n",
       "2          Sylas       Ahri   MIDDLE   ['Gwen', 'Kayn', 'Aphelios', 'Milio']   \n",
       "3       Aphelios      Vayne   BOTTOM      ['Gwen', 'Kayn', 'Sylas', 'Milio']   \n",
       "4          Milio    Alistar  UTILITY   ['Gwen', 'Kayn', 'Sylas', 'Aphelios']   \n",
       "...          ...        ...      ...                                     ...   \n",
       "42406        Jax  Gangplank      TOP  ['DrMundo', 'Velkoz', 'Yasuo', 'Nami']   \n",
       "42407    DrMundo     LeeSin   JUNGLE      ['Jax', 'Velkoz', 'Yasuo', 'Nami']   \n",
       "42408     Velkoz        Zoe   MIDDLE     ['Jax', 'DrMundo', 'Yasuo', 'Nami']   \n",
       "42409      Yasuo   Tristana   BOTTOM    ['Jax', 'DrMundo', 'Velkoz', 'Nami']   \n",
       "42410       Nami      Karma  UTILITY   ['Jax', 'DrMundo', 'Velkoz', 'Yasuo']   \n",
       "\n",
       "                                       enemy_champions_1  \n",
       "0       ['Camille', 'Talon', 'Ahri', 'Vayne', 'Alistar']  \n",
       "1       ['Camille', 'Talon', 'Ahri', 'Vayne', 'Alistar']  \n",
       "2       ['Camille', 'Talon', 'Ahri', 'Vayne', 'Alistar']  \n",
       "3       ['Camille', 'Talon', 'Ahri', 'Vayne', 'Alistar']  \n",
       "4       ['Camille', 'Talon', 'Ahri', 'Vayne', 'Alistar']  \n",
       "...                                                  ...  \n",
       "42406  ['Gangplank', 'LeeSin', 'Zoe', 'Tristana', 'Ka...  \n",
       "42407  ['Gangplank', 'LeeSin', 'Zoe', 'Tristana', 'Ka...  \n",
       "42408  ['Gangplank', 'LeeSin', 'Zoe', 'Tristana', 'Ka...  \n",
       "42409  ['Gangplank', 'LeeSin', 'Zoe', 'Tristana', 'Ka...  \n",
       "42410  ['Gangplank', 'LeeSin', 'Zoe', 'Tristana', 'Ka...  \n",
       "\n",
       "[42411 rows x 5 columns]"
      ]
     },
     "execution_count": 18,
     "metadata": {},
     "output_type": "execute_result"
    }
   ],
   "source": [
    "columns_to_keep = [\n",
    "\"champion_1\", \"champion_2\", \"lane\",\n",
    "\"ally_champions_1\", \"enemy_champions_1\"\n",
    "]\n",
    "df[columns_to_keep]"
   ]
  },
  {
   "cell_type": "markdown",
   "metadata": {},
   "source": [
    "# Verification of quality"
   ]
  },
  {
   "cell_type": "code",
   "execution_count": 24,
   "metadata": {},
   "outputs": [],
   "source": [
    "import pandas as pd\n",
    "import ast\n",
    "\n",
    "# df = pd.read_json(\"data/build_finetune_dataset.jsonl\", lines=True)\n",
    "df = pd.read_csv(\"data/llm_ready_dataset.csv\", sep=';')\n",
    "\n",
    "\n",
    "# Ensure list-like columns are properly parsed\n",
    "list_columns = ['ally_champions_1', 'enemy_champions_1', 'ally_champions_2', 'enemy_champions_2']\n",
    "for col in list_columns:\n",
    "    df[col] = df[col].apply(ast.literal_eval)\n",
    "\n",
    "# Split ally_champions_1 into ally_1 to ally_4\n",
    "df[['ally_1', 'ally_2', 'ally_3', 'ally_4']] = pd.DataFrame(df['ally_champions_1'].tolist(), index=df.index)\n",
    "\n",
    "# Split enemy_champions_1 into enemy_1 to enemy_5\n",
    "df[['enemy_1', 'enemy_2', 'enemy_3', 'enemy_4', 'enemy_5']] = pd.DataFrame(df['enemy_champions_1'].tolist(), index=df.index)\n",
    "\n",
    "cols = [\n",
    "    'champion_1', 'champion_2',\n",
    "    'ally_1', 'ally_2', 'ally_3', 'ally_4',\n",
    "    'enemy_1', 'enemy_2', 'enemy_3', 'enemy_4', 'enemy_5']"
   ]
  },
  {
   "cell_type": "code",
   "execution_count": 25,
   "metadata": {},
   "outputs": [
    {
     "data": {
      "text/plain": [
       "\"Buy Doran's Ring\\nInventory (1): Doran's Ring\\n\\nBuy Plated Steelcaps\\nInventory (2): Doran's Ring, Plated Steelcaps\\n\\nBuy Amplifying Tome\\nInventory (3): Doran's Ring, Plated Steelcaps, Amplifying Tome\\n\\nBuild Haunting Guise (fusing Amplifying Tome + Ruby Crystal)\\nInventory (3): Doran's Ring, Plated Steelcaps, Haunting Guise\\n\\nBuy Amplifying Tome\\nInventory (4): Doran's Ring, Plated Steelcaps, Haunting Guise, Amplifying Tome\\n\\nBuild Fiendish Codex (fusing Amplifying Tome + Glowing Mote)\\nInventory (4): Doran's Ring, Plated Steelcaps, Haunting Guise, Fiendish Codex\\n\""
      ]
     },
     "execution_count": 25,
     "metadata": {},
     "output_type": "execute_result"
    }
   ],
   "source": [
    "df.items_1_early.iloc[0]"
   ]
  },
  {
   "cell_type": "code",
   "execution_count": 26,
   "metadata": {},
   "outputs": [
    {
     "data": {
      "text/plain": [
       "\"Doran's Ring, Plated Steelcaps, Riftmaker, Blasting Wand, Recurve Bow\""
      ]
     },
     "execution_count": 26,
     "metadata": {},
     "output_type": "execute_result"
    }
   ],
   "source": [
    "df.items_1_end.iloc[0]"
   ]
  },
  {
   "cell_type": "code",
   "execution_count": 20,
   "metadata": {},
   "outputs": [
    {
     "data": {
      "text/plain": [
       "154"
      ]
     },
     "execution_count": 20,
     "metadata": {},
     "output_type": "execute_result"
    }
   ],
   "source": [
    "#number of unique values in champion_1 where lane is TOP\n",
    "df[df['lane'] == 'MIDDLE']['champion_1'].nunique()"
   ]
  },
  {
   "cell_type": "code",
   "execution_count": 21,
   "metadata": {},
   "outputs": [],
   "source": [
    "# df.loc[df['lane'] == 'TOP' and df['champion_1'] == 'Ziggs (mage)']"
   ]
  },
  {
   "cell_type": "code",
   "execution_count": 22,
   "metadata": {},
   "outputs": [
    {
     "data": {
      "text/html": [
       "<div>\n",
       "<style scoped>\n",
       "    .dataframe tbody tr th:only-of-type {\n",
       "        vertical-align: middle;\n",
       "    }\n",
       "\n",
       "    .dataframe tbody tr th {\n",
       "        vertical-align: top;\n",
       "    }\n",
       "\n",
       "    .dataframe thead th {\n",
       "        text-align: right;\n",
       "    }\n",
       "</style>\n",
       "<table border=\"1\" class=\"dataframe\">\n",
       "  <thead>\n",
       "    <tr style=\"text-align: right;\">\n",
       "      <th></th>\n",
       "      <th>champion_1</th>\n",
       "      <th>champion_2</th>\n",
       "      <th>lane</th>\n",
       "      <th>ally_champions_1</th>\n",
       "      <th>enemy_champions_1</th>\n",
       "      <th>ally_champions_2</th>\n",
       "      <th>enemy_champions_2</th>\n",
       "      <th>items_1_early</th>\n",
       "      <th>items_1_mid</th>\n",
       "      <th>items_1_late</th>\n",
       "      <th>...</th>\n",
       "      <th>summoner_spells_2</th>\n",
       "      <th>ally_1</th>\n",
       "      <th>ally_2</th>\n",
       "      <th>ally_3</th>\n",
       "      <th>ally_4</th>\n",
       "      <th>enemy_1</th>\n",
       "      <th>enemy_2</th>\n",
       "      <th>enemy_3</th>\n",
       "      <th>enemy_4</th>\n",
       "      <th>enemy_5</th>\n",
       "    </tr>\n",
       "  </thead>\n",
       "  <tbody>\n",
       "    <tr>\n",
       "      <th>55885</th>\n",
       "      <td>Thresh (tank)</td>\n",
       "      <td>Shen (tank)</td>\n",
       "      <td>TOP</td>\n",
       "      <td>[Nocturne, Syndra, Twitch, Milio]</td>\n",
       "      <td>[Shen, Olaf, Anivia, Jhin, Sona]</td>\n",
       "      <td>[Olaf, Anivia, Jhin, Sona]</td>\n",
       "      <td>[Thresh, Nocturne, Syndra, Twitch, Milio]</td>\n",
       "      <td>Buy Doran's Shield\\nInventory (1): Doran's Shi...</td>\n",
       "      <td>Build Bami's Cinder (fusing Ruby Crystal)\\nInv...</td>\n",
       "      <td>NaN</td>\n",
       "      <td>...</td>\n",
       "      <td>['Ignite', 'Flash']</td>\n",
       "      <td>Nocturne</td>\n",
       "      <td>Syndra</td>\n",
       "      <td>Twitch</td>\n",
       "      <td>Milio</td>\n",
       "      <td>Shen</td>\n",
       "      <td>Olaf</td>\n",
       "      <td>Anivia</td>\n",
       "      <td>Jhin</td>\n",
       "      <td>Sona</td>\n",
       "    </tr>\n",
       "  </tbody>\n",
       "</table>\n",
       "<p>1 rows × 26 columns</p>\n",
       "</div>"
      ],
      "text/plain": [
       "          champion_1   champion_2 lane                   ally_champions_1  \\\n",
       "55885  Thresh (tank)  Shen (tank)  TOP  [Nocturne, Syndra, Twitch, Milio]   \n",
       "\n",
       "                      enemy_champions_1            ally_champions_2  \\\n",
       "55885  [Shen, Olaf, Anivia, Jhin, Sona]  [Olaf, Anivia, Jhin, Sona]   \n",
       "\n",
       "                               enemy_champions_2  \\\n",
       "55885  [Thresh, Nocturne, Syndra, Twitch, Milio]   \n",
       "\n",
       "                                           items_1_early  \\\n",
       "55885  Buy Doran's Shield\\nInventory (1): Doran's Shi...   \n",
       "\n",
       "                                             items_1_mid items_1_late  ...  \\\n",
       "55885  Build Bami's Cinder (fusing Ruby Crystal)\\nInv...          NaN  ...   \n",
       "\n",
       "         summoner_spells_2    ally_1  ally_2  ally_3 ally_4 enemy_1 enemy_2  \\\n",
       "55885  ['Ignite', 'Flash']  Nocturne  Syndra  Twitch  Milio    Shen    Olaf   \n",
       "\n",
       "      enemy_3 enemy_4 enemy_5  \n",
       "55885  Anivia    Jhin    Sona  \n",
       "\n",
       "[1 rows x 26 columns]"
      ]
     },
     "execution_count": 22,
     "metadata": {},
     "output_type": "execute_result"
    }
   ],
   "source": [
    "df.loc[df['champion_1'] == 'Thresh (tank)'].loc[df['lane'] == 'TOP']"
   ]
  },
  {
   "cell_type": "code",
   "execution_count": 23,
   "metadata": {},
   "outputs": [
    {
     "data": {
      "text/plain": [
       "True"
      ]
     },
     "execution_count": 23,
     "metadata": {},
     "output_type": "execute_result"
    }
   ],
   "source": [
    "'item' in \"item_patch_diff.json\""
   ]
  },
  {
   "cell_type": "code",
   "execution_count": 24,
   "metadata": {},
   "outputs": [
    {
     "data": {
      "text/plain": [
       "4241922417794061"
      ]
     },
     "execution_count": 24,
     "metadata": {},
     "output_type": "execute_result"
    }
   ],
   "source": [
    "import numpy as np\n",
    "import math\n",
    "\n",
    "#n choose k, n=170, k = 10\n",
    "math.comb(170, 10)\n"
   ]
  },
  {
   "cell_type": "code",
   "execution_count": 25,
   "metadata": {},
   "outputs": [],
   "source": [
    "#show duplicate rows regarding the columns in list_columns\n",
    "duplicate_rows = df[cols].duplicated(keep=False)\n",
    "if duplicate_rows.any():\n",
    "    print(\"Duplicate rows found:\")\n",
    "    print(df[duplicate_rows])"
   ]
  },
  {
   "cell_type": "code",
   "execution_count": 26,
   "metadata": {},
   "outputs": [],
   "source": [
    "# Function to check if a validation example exists\n",
    "def matchup_seen(player_champ, enemy_champ, allies, enemies, dataframe):\n",
    "    matched_indices = []\n",
    "\n",
    "    for idx, row in dataframe.iterrows():\n",
    "        if (\n",
    "            (row['champion_1'].lower() == player_champ.lower()) and\n",
    "            (row['champion_2'].lower() == enemy_champ.lower()) and\n",
    "            (set(map(str.lower, row['ally_champions_1'])) == set(map(str.lower, allies))) and\n",
    "            (set(map(str.lower, row['enemy_champions_1'])) == set(map(str.lower, enemies)))\n",
    "        ):\n",
    "            matched_indices.append(idx)\n",
    "\n",
    "    if matched_indices:\n",
    "        return dataframe.loc[matched_indices]  # << return matching rows\n",
    "    else:\n",
    "        return pd.DataFrame()  # << return empty dataframe if no match"
   ]
  },
  {
   "cell_type": "code",
   "execution_count": 3,
   "metadata": {},
   "outputs": [
    {
     "name": "stdout",
     "output_type": "stream",
     "text": [
      "🦥 Unsloth: Will patch your computer to enable 2x faster free finetuning.\n",
      "Unsloth: Failed to patch SmolVLMForConditionalGeneration forward function.\n",
      "🦥 Unsloth Zoo will now patch everything to make training faster!\n",
      "==((====))==  Unsloth 2025.4.1: Fast Llama patching. Transformers: 4.51.3.\n",
      "   \\\\   /|    NVIDIA GeForce RTX 3060. Num GPUs = 1. Max memory: 11.723 GB. Platform: Linux.\n",
      "O^O/ \\_/ \\    Torch: 2.6.0+cu124. CUDA: 8.6. CUDA Toolkit: 12.4. Triton: 3.2.0\n",
      "\\        /    Bfloat16 = TRUE. FA [Xformers = 0.0.29.post3. FA2 = False]\n",
      " \"-____-\"     Free license: http://github.com/unslothai/unsloth\n",
      "Unsloth: Fast downloading is enabled - ignore downloading bars which are red colored!\n"
     ]
    },
    {
     "name": "stderr",
     "output_type": "stream",
     "text": [
      "Unsloth 2025.4.1 patched 28 layers with 0 QKV layers, 0 O layers and 0 MLP layers.\n"
     ]
    }
   ],
   "source": [
    "from unsloth import FastLanguageModel\n",
    "import torch\n",
    "\n",
    "# Load fine-tuned model\n",
    "model, tokenizer = FastLanguageModel.from_pretrained(\n",
    "    model_name=\"data/llama3b-qlora\",\n",
    "    max_seq_length=512,\n",
    "    dtype=torch.bfloat16,\n",
    "    load_in_4bit=True,\n",
    ")\n",
    "\n",
    "model = FastLanguageModel.for_inference(model)"
   ]
  },
  {
   "cell_type": "code",
   "execution_count": 4,
   "metadata": {},
   "outputs": [],
   "source": [
    "from datasets import load_dataset\n",
    "\n",
    "val_dataset = load_dataset(\"json\", data_files=\"data/val.jsonl\", split=\"train\")"
   ]
  },
  {
   "cell_type": "code",
   "execution_count": 5,
   "metadata": {},
   "outputs": [
    {
     "name": "stdout",
     "output_type": "stream",
     "text": [
      "**Champion Patch Notes:**\n",
      "- Darius spell 2 updated.\n",
      "- Darius armor decreased from 39 to 37.\n",
      "- Nasus spell 3 label changed across ranks.\n",
      "\n",
      "In a JUNGLE matchup between Ekko (assassin/mage) and Rammus (tank), with allies Darius, Nasus, Kaisa, Leona and enemies Rammus, Shen, Smolder, Ziggs, Rell, and your setup being Smite, Flash and Dark Harvest, Sudden Impact, Grisly Mementos, Treasure Hunter, Magical Footwear, Jack Of All Trades, versus their Smite, Ghost and keystone Aftershock, what should you build during early, mid, and late stages?\n"
     ]
    }
   ],
   "source": [
    "i = 888\n",
    "example = val_dataset[i]\n",
    "print(example['prompt'])"
   ]
  },
  {
   "cell_type": "code",
   "execution_count": 6,
   "metadata": {},
   "outputs": [
    {
     "data": {
      "text/plain": [
       "['Rumble', 'Gragas', 'Yasuo', 'MissFortune', 'Milio']"
      ]
     },
     "execution_count": 6,
     "metadata": {},
     "output_type": "execute_result"
    }
   ],
   "source": [
    "\"Rumble, Gragas, Yasuo, MissFortune, Milio\".strip().split(\", \")"
   ]
  },
  {
   "cell_type": "code",
   "execution_count": 7,
   "metadata": {},
   "outputs": [
    {
     "ename": "NameError",
     "evalue": "name 'matchup_seen' is not defined",
     "output_type": "error",
     "traceback": [
      "\u001b[31m---------------------------------------------------------------------------\u001b[39m",
      "\u001b[31mNameError\u001b[39m                                 Traceback (most recent call last)",
      "\u001b[36mCell\u001b[39m\u001b[36m \u001b[39m\u001b[32mIn[7]\u001b[39m\u001b[32m, line 5\u001b[39m\n\u001b[32m      3\u001b[39m allies = [\u001b[33m'\u001b[39m\u001b[33mNaafiri\u001b[39m\u001b[33m'\u001b[39m, \u001b[33m'\u001b[39m\u001b[33mLeblanc\u001b[39m\u001b[33m'\u001b[39m, \u001b[33m'\u001b[39m\u001b[33mCaitlyn\u001b[39m\u001b[33m'\u001b[39m, \u001b[33m'\u001b[39m\u001b[33mLux\u001b[39m\u001b[33m'\u001b[39m]\n\u001b[32m      4\u001b[39m enemies = [\u001b[33m'\u001b[39m\u001b[33mRumble\u001b[39m\u001b[33m'\u001b[39m, \u001b[33m'\u001b[39m\u001b[33mGragas\u001b[39m\u001b[33m'\u001b[39m, \u001b[33m'\u001b[39m\u001b[33mYasuo\u001b[39m\u001b[33m'\u001b[39m, \u001b[33m'\u001b[39m\u001b[33mMissFortune\u001b[39m\u001b[33m'\u001b[39m, \u001b[33m'\u001b[39m\u001b[33mMilio\u001b[39m\u001b[33m'\u001b[39m]\n\u001b[32m----> \u001b[39m\u001b[32m5\u001b[39m real = \u001b[43mmatchup_seen\u001b[49m(c1, c2, allies, enemies, df)\n",
      "\u001b[31mNameError\u001b[39m: name 'matchup_seen' is not defined"
     ]
    }
   ],
   "source": [
    "c1 = 'Yone (fighter/assassin)'\n",
    "c2 = 'Rumble (fighter/mage)'\n",
    "allies = ['Naafiri', 'Leblanc', 'Caitlyn', 'Lux']\n",
    "enemies = ['Rumble', 'Gragas', 'Yasuo', 'MissFortune', 'Milio']\n",
    "real = matchup_seen(c1, c2, allies, enemies, df)"
   ]
  },
  {
   "cell_type": "code",
   "execution_count": 8,
   "metadata": {},
   "outputs": [
    {
     "ename": "NameError",
     "evalue": "name 'real' is not defined",
     "output_type": "error",
     "traceback": [
      "\u001b[31m---------------------------------------------------------------------------\u001b[39m",
      "\u001b[31mNameError\u001b[39m                                 Traceback (most recent call last)",
      "\u001b[36mCell\u001b[39m\u001b[36m \u001b[39m\u001b[32mIn[8]\u001b[39m\u001b[32m, line 1\u001b[39m\n\u001b[32m----> \u001b[39m\u001b[32m1\u001b[39m \u001b[43mreal\u001b[49m\n",
      "\u001b[31mNameError\u001b[39m: name 'real' is not defined"
     ]
    }
   ],
   "source": [
    "real"
   ]
  },
  {
   "cell_type": "code",
   "execution_count": 11,
   "metadata": {},
   "outputs": [
    {
     "name": "stdout",
     "output_type": "stream",
     "text": [
      "\n",
      "==================================================\n",
      "📝 PROMPT:\n",
      "**Champion Patch Notes:**\n",
      "- Darius spell 2 updated.\n",
      "- Darius armor decreased from 39 to 37.\n",
      "- Nasus spell 3 label changed across ranks.\n",
      "\n",
      "In a JUNGLE matchup between Ekko (assassin/mage) and Rammus (tank), with allies Darius, Nasus, Kaisa, Leona and enemies Rammus, Shen, Smolder, Ziggs, Rell, and your setup being Smite, Flash and Dark Harvest, Sudden Impact, Grisly Mementos, Treasure Hunter, Magical Footwear, Jack Of All Trades, versus their Smite, Ghost and keystone Aftershock, what should you build during early, mid, and late stages?\n",
      "==================================================\n",
      "\n",
      "✅ GROUND TRUTH COMPLETION:\n",
      "**Early Game:**\n",
      "Buy Gustwalker Hatchling\n",
      "Inventory (1): Gustwalker Hatchling\n",
      "\n",
      "Buy Blasting Wand\n",
      "Inventory (2): Gustwalker Hatchling, Blasting Wand\n",
      "\n",
      "Buy Recurve Bow\n",
      "Inventory (3): Gustwalker Hatchling, Blasting Wand, Recurve Bow\n",
      "\n",
      "Buy Fiendish Codex\n",
      "Inventory (4): Gustwalker Hatchling, Blasting Wand, Recurve Bow, Fiendish Codex\n",
      "\n",
      "**Mid Game:**\n",
      "Build Nashor's Tooth (fusing Recurve Bow + Blasting Wand + Fiendish Codex)\n",
      "Inventory (2): Gustwalker Hatchling, Nashor's Tooth\n",
      "\n",
      "Buy Needlessly Large Rod\n",
      "Inventory (3): Gustwalker Hatchling, Nashor's Tooth, Needlessly Large Rod\n",
      "\n",
      "Buy Sheen\n",
      "Inventory (4): Gustwalker Hatchling, Nashor's Tooth, Needlessly Large Rod, Sheen\n",
      "\n",
      "Build Lich Bane (fusing Sheen + Aether Wisp + Needlessly Large Rod)\n",
      "Inventory (3): Gustwalker Hatchling, Nashor's Tooth, Lich Bane\n",
      "\n",
      "Buy Sorcerer's Shoes\n",
      "Inventory (4): Gustwalker Hatchling, Nashor's Tooth, Lich Bane, Sorcerer's Shoes\n",
      "\n",
      "Buy Blighting Jewel\n",
      "Inventory (5): Gustwalker Hatchling, Nashor's Tooth, Lich Bane, Sorcerer's Shoes, Blighting Jewel\n",
      "\n",
      "Buy Blasting Wand\n",
      "Inventory (6): Gustwalker Hatchling, Nashor's Tooth, Lich Bane, Sorcerer's Shoes, Blighting Jewel, Blasting Wand\n",
      "\n",
      "**Late Game:**\n",
      "No items.\n",
      "**Final inventory:**\n",
      "Gustwalker Hatchling, Nashor's Tooth, Lich Bane, Sorcerer's Shoes, Blighting Jewel, Blasting Wand\n",
      "==================================================\n",
      "\n",
      "🚀 MODEL PREDICTION:\n",
      "**Early Game:**\n",
      "Buy Gustwalker Hatchling\n",
      "Inventory (1): Gustwalker Hatchling\n",
      "\n",
      "Buy Dark Seal\n",
      "Inventory (2): Gustwalker Hatchling, Dark Seal\n",
      "\n",
      "Buy Amplifying Tome\n",
      "Inventory (3): Gustwalker Hatchling, Dark Seal, Amplifying Tome\n",
      "\n",
      "Buy Amplifying Tome\n",
      "Inventory (4): Gustwalker Hatchling, Dark Seal, Amplifying Tome, Amplifying Tome\n",
      "\n",
      "Build Hextech Alternator (fusing Amplifying Tome + Amplifying Tome)\n",
      "Inventory (3): Gustwalker Hatchling, Dark Seal, Hextech Alternator\n",
      "\n",
      "Buy Amplifying Tome\n",
      "Inventory (4): Gustwalker Hatchling, Dark Seal, Hextech Alternator, Amplifying Tome\n",
      "\n",
      "Buy Glowing Mote\n",
      "Inventory (5): Gustwalker Hatchling, Dark Seal, Hextech Alternator, Amplifying Tome, Glowing Mote\n",
      "\n",
      "Build Aether Wisp (fusing Amplifying Tome)\n",
      "Inventory (5): Gustwalker Hatchling, Dark Seal, Hextech Alternator, Glowing Mote, Aether Wisp\n",
      "\n",
      "**Mid Game:**\n",
      "Build Stormsurge (fusing Hextech Alternator + Aether Wisp)\n",
      "Inventory (4): Gustwalker Hatchling, Dark Seal, Glowing Mote, Stormsurge\n",
      "\n",
      "Buy Needlessly Large Rod\n",
      "Inventory (5): Gustwalker Hatchling, Dark Seal, Glowing Mote, Stormsurge, Needlessly Large Rod\n",
      "\n",
      "Buy Amplifying Tome\n",
      "Inventory (6): Gustwalker Hatchling, Dark Seal, Glowing Mote, Stormsurge, Needlessly Large Rod, Amplifying Tome\n",
      "\n",
      "Buy Sorcerer's Shoes\n",
      "Inventory (6): Gustwalker Hatchling, Dark Seal, Glowing Mote, Stormsurge, Needlessly Large Rod, Sorcerer's Shoes\n",
      "\n",
      "Buy Amplifying Tome\n",
      "Inventory (7): Gustwalker Hatchling, Dark Seal, Glowing Mote, Stormsurge, Needlessly Large Rod, Sorcerer's Shoes, Amplifying Tome\n",
      "\n",
      "Build Lich Bane (fusing Sheen + Aether Wisp + Needlessly Large Rod)\n",
      "Inventory (7): Gustwalker Hatchling, Dark Seal, Glowing Mote, Stormsurge, Sorcerer's Shoes, Amplifying Tome, Lich Bane\n",
      "\n",
      "Buy Amplifying Tome\n",
      "Inventory (8): Gustwalker Hatchling, Dark Seal, Glowing Mote, Stormsurge, Sorcerer's Shoes, Amplifying Tome, Lich Bane, Amplifying Tome\n",
      "\n",
      "Buy Needlessly Large Rod\n",
      "Inventory (9): Gustwalker Hatchling, Dark Seal, Glowing Mote, Stormsurge, Sorcerer's Shoes, Amplifying Tome, Lich Bane, Amplifying Tome, Needlessly Large Rod\n",
      "\n",
      "Build Shadowflame (fusing Hextech Alternator + Needlessly Large Rod)\n",
      "Inventory (9): Gustwalker Hatchling, Dark Seal, Glowing Mote, Stormsurge, Sorcerer's Shoes, Amplifying Tome, Lich Bane, Amplifying Tome, Shadowflame\n",
      "\n",
      "**Late Game:**\n",
      "No items.\n",
      "**Final inventory:**\n",
      "Gustwalker Hatchling, Dark Seal, Glowing Mote, Stormsurge, Sorcerer's Shoes, Amplifying Tome, Lich Bane, Amplifying Tome, Shadowflame, Needlessly Large Rod, Amplifying Tome, Gustwalker Hatchling, Dark Seal, Glowing Mote, Stormsurge, Sorcerer's Shoes, Amplifying Tome, Lich Bane, Amplifying Tome, Shadowflame, Needlessly Large Rod, Amplifying Tome, Gustwalker Hatchling, Dark Seal, Glowing Mote, Stormsurge, Sorcerer's Shoes, Amplifying Tome, Lich Bane, Amplifying Tome, Shadowflame, Needlessly Large\n",
      "==================================================\n",
      "\n"
     ]
    }
   ],
   "source": [
    "prompt = example[\"prompt\"]\n",
    "ground_truth = example[\"completion\"]\n",
    "\n",
    "# Run inference\n",
    "inputs = tokenizer(prompt, return_tensors=\"pt\").to(model.device)\n",
    "outputs = model.generate(**inputs, max_new_tokens=768)\n",
    "generated_text = tokenizer.decode(outputs[0], skip_special_tokens=True)\n",
    "\n",
    "# Format output\n",
    "print(\"\\n\" + \"=\" * 50)\n",
    "print(\"📝 PROMPT:\")\n",
    "print(prompt)\n",
    "print(\"=\" * 50)\n",
    "\n",
    "print(\"\\n✅ GROUND TRUTH COMPLETION:\")\n",
    "print(ground_truth)\n",
    "print(\"=\" * 50)\n",
    "\n",
    "\n",
    "print(\"\\n🚀 MODEL PREDICTION:\")\n",
    "# If the model includes the prompt again (it often does in decoding), strip it\n",
    "pred_only = generated_text.replace(prompt, \"\").strip()\n",
    "print(pred_only)\n",
    "print(\"=\" * 50 + \"\\n\")\n"
   ]
  },
  {
   "cell_type": "code",
   "execution_count": null,
   "metadata": {},
   "outputs": [],
   "source": []
  }
 ],
 "metadata": {
  "kernelspec": {
   "display_name": ".venv",
   "language": "python",
   "name": "python3"
  },
  "language_info": {
   "codemirror_mode": {
    "name": "ipython",
    "version": 3
   },
   "file_extension": ".py",
   "mimetype": "text/x-python",
   "name": "python",
   "nbconvert_exporter": "python",
   "pygments_lexer": "ipython3",
   "version": "3.12.9"
  }
 },
 "nbformat": 4,
 "nbformat_minor": 2
}
